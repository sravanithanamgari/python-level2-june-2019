{
 "cells": [
  {
   "cell_type": "code",
   "execution_count": 96,
   "metadata": {},
   "outputs": [
    {
     "name": "stdout",
     "output_type": "stream",
     "text": [
      "500 502 504 506 508 510 512 514 516 518 520 522 524 526 528 530 532 534 536 538 540 542 544 546 548 550 "
     ]
    }
   ],
   "source": [
    "#Fuction to print the alternate values in the range in the same line\n",
    "#[500,550] -> 500 502 504 ......550\n",
    "#(500 ,550) -> 501,503 505 ......549\n",
    "#\n",
    "\n",
    "def alternate(lb, up):\n",
    "    for i in range(lb, up+1, 2):\n",
    "        print(i, end=\" \")\n",
    "    return\n",
    "\n",
    "alternate(500, 550)"
   ]
  },
  {
   "cell_type": "code",
   "execution_count": 31,
   "metadata": {},
   "outputs": [
    {
     "name": "stdout",
     "output_type": "stream",
     "text": [
      "20 19 18 17 16 15 14 13 12 11 10 9 8 7 6 5 4 3 2 1 "
     ]
    }
   ],
   "source": [
    "#Function to print reverse of a range in the same line\n",
    "def reverserange(lb, up):\n",
    "    for i in range(up, lb-1, -1):\n",
    "        print(i, end=\" \")\n",
    "    return\n",
    "\n",
    "reverserange(1, 20)"
   ]
  },
  {
   "cell_type": "code",
   "execution_count": 37,
   "metadata": {},
   "outputs": [
    {
     "name": "stdout",
     "output_type": "stream",
     "text": [
      "19 17 15 13 11 9 7 5 3 1 "
     ]
    }
   ],
   "source": [
    "# Function to print odd numbers in reverse in a range\n",
    "def  oddnumbers(lb, up):\n",
    "    for i in range(up, lb-1, -1):\n",
    "        if i%2 != 0:\n",
    "            print(i, end=\" \")\n",
    "    return\n",
    "\n",
    "oddnumbers(1, 20)"
   ]
  },
  {
   "cell_type": "code",
   "execution_count": 46,
   "metadata": {},
   "outputs": [
    {
     "data": {
      "text/plain": [
       "165"
      ]
     },
     "execution_count": 46,
     "metadata": {},
     "output_type": "execute_result"
    }
   ],
   "source": [
    "# Function to  calculate the sum of numbers in a range\n",
    "def sumrange(lb, up):\n",
    "    sum=0\n",
    "    for i in range(lb, up+1):\n",
    "        sum = sum + i\n",
    "    return sum \n",
    "\n",
    "sumrange(10,20)\n",
    "\n"
   ]
  },
  {
   "cell_type": "code",
   "execution_count": 93,
   "metadata": {},
   "outputs": [
    {
     "data": {
      "text/plain": [
       "3.5"
      ]
     },
     "execution_count": 93,
     "metadata": {},
     "output_type": "execute_result"
    }
   ],
   "source": [
    "#function to calculate average of given range\n",
    "# (1,5)-->3\n",
    "def averagerange(lb, up):\n",
    "    sum = 0\n",
    "    for i in range(lb, up+1):\n",
    "        sum = sum + i # sum calculation\n",
    "    return sum/(up-lb+1)\n",
    "\n",
    "averagerange(1, 6)\n",
    "        \n",
    "    "
   ]
  },
  {
   "cell_type": "code",
   "execution_count": 73,
   "metadata": {},
   "outputs": [
    {
     "name": "stdout",
     "output_type": "stream",
     "text": [
      "2000 2004 2008 2012 2016 "
     ]
    }
   ],
   "source": [
    "# Function to generate all leap years in a given time period\n",
    "# 2000-2020 -> 2000 2004 2008 2012 2016 2020\n",
    "def isleapyear(year):\n",
    "    if year % 400 == 0 or (year % 100 != 0 and year % 4 == 0):\n",
    "        return True\n",
    "    else:\n",
    "        return False\n",
    "def leapyearsrange(lb, up):\n",
    "    for year  in range(lb, up+1):\n",
    "        if isleapyear(year):\n",
    "            print(year, end=\" \")\n",
    "    return \n",
    "\n",
    "leapyearsrange(2000, 2019)\n"
   ]
  },
  {
   "cell_type": "code",
   "execution_count": 83,
   "metadata": {},
   "outputs": [
    {
     "data": {
      "text/plain": [
       "1828"
      ]
     },
     "execution_count": 83,
     "metadata": {},
     "output_type": "execute_result"
    }
   ],
   "source": [
    "# Calculate number of days in given time period using leapyear \n",
    "# For every year  in the given time period, if the year is not a leap year add 366 to sum\n",
    "def isleapyear(year):\n",
    "    if year % 400 == 0 or (year % 100 != 0 and year % 4 == 0):\n",
    "        return True\n",
    "    else:\n",
    "        return False\n",
    "def leapyearsrange(lb, up):\n",
    "    sum = 0\n",
    "    for year  in range(lb, up+1):\n",
    "        if isleapyear(year):\n",
    "            sum = sum + 365\n",
    "        else:\n",
    "            sum = sum + 366\n",
    "    return sum\n",
    "\n",
    "leapyearsrange(2000, 2004)"
   ]
  },
  {
   "cell_type": "code",
   "execution_count": null,
   "metadata": {},
   "outputs": [],
   "source": [
    "#Function to calculate number of hours for a given period \n",
    "#(11,1975, 03, 1999)--->\n",
    "#number of hours(5, 2019, 6,2019)--->61*24=1464\n",
    "#2, 2016 , 6,2019\n",
    "# [all days from feb 2016 to dec 2016,\n",
    "#  all days for years between 2016 and 2019\n",
    "#  all days from Jan to June 2019\n",
    "#no of hours = 24 * No of days\n",
    "# 3 steps\n",
    "   # 1. start month year to end of year - calculate no of days\n",
    "   # 2. Calculate days for all years between start year and end year \n",
    "            #2017, 2018 - 365 * no of years\n",
    "   # 3. Calculate Days from Jan to end month year\n",
    "\n",
    "# EXcluding feb\n",
    "# First Six months - 1, 3, 4, 5, 6\n",
    "                    # All odd months have 31 days\n",
    "                    # All even months have 30 days\n",
    "#Last Six months - 8, 9, 10, 11, 12\n",
    "                    # All even months have 31 days\n",
    "                    # All odd months have 30 days\n",
    "                        \n",
    "# 31 days - (month <= 7 and month % 2 != 0) // (month)\n",
    "#                 return 31\n",
    "#\n",
    "#        else\n",
    "#            return 30 \n",
    "\n",
    "\n",
    "def numberofdaysmonth(month, year):\n",
    "    if month == 2:\n",
    "        if isLeapyear(year):\n",
    "            return 29\n",
    "        return 28\n",
    "    elif (month <= 7 and month % 2!= 0) or (month >= 8 and month %2 ==0):\n",
    "        return 31\n",
    "    else:\n",
    "        return 30\n",
    "    \n",
    "numberofdaysmonth(4, 2019)\n",
    "\n",
    "def daysInstartyear(startmonth, startyear):\n",
    "    days = 0 \n",
    "    for month in range(startmonth , 13):\n",
    "        days += numberofdaysmonth(month, startyear)\n",
    "    return days\n",
    "\n",
    "daysInstartyear(6, 2019)\n",
    "\n",
    "def daysInEndyear(endmonth, endyear):\n",
    "    days = 0\n",
    "    for month in range(1, endmonth+1):\n",
    "        days += numnerofdaysmonth(month, endyear)\n",
    "    return days\n",
    "\n",
    "daysInEndyear(6, 2019)\n",
    "\n",
    "def numberOfHours(startmonth, startyear, endmonth,endyear):\n",
    "    days = 0\n",
    "    days += daysInstartyear(startmonth, startyear)\n",
    "    days +=daysInEndyear(endmonth, endyear)\n",
    "    if endyear - startyear == 2:\n",
    "        days += numberofdays(startyear+1, startyear+1)\n",
    "    elif endyear - startyear > 2:\n",
    "        days += numberofdays(startyear+1, endyear-1)\n",
    "    return 24 * days\n",
    "\n",
    "numberOfHours(11, 1975, 3, 1999)\n",
    "        "
   ]
  },
  {
   "cell_type": "code",
   "execution_count": 115,
   "metadata": {},
   "outputs": [
    {
     "name": "stdout",
     "output_type": "stream",
     "text": [
      "enter a number5\n",
      "5 x 1 = 5\n",
      "5 x 2 = 10\n",
      "5 x 3 = 15\n",
      "5 x 4 = 20\n",
      "5 x 5 = 25\n",
      "5 x 6 = 30\n",
      "5 x 7 = 35\n",
      "5 x 8 = 40\n",
      "5 x 9 = 45\n",
      "5 x 10 = 50\n"
     ]
    }
   ],
   "source": [
    "def multiplication(n):\n",
    "    n= int(input(\"enter a number\"))\n",
    "    for i in range(1, 11):\n",
    "        print(n ,'x', i ,'=' , n * i)\n",
    "\n",
    "multiplication(5)\n",
    "    \n",
    "        "
   ]
  },
  {
   "cell_type": "code",
   "execution_count": null,
   "metadata": {},
   "outputs": [],
   "source": []
  },
  {
   "cell_type": "code",
   "execution_count": null,
   "metadata": {},
   "outputs": [],
   "source": []
  }
 ],
 "metadata": {
  "kernelspec": {
   "display_name": "Python 3",
   "language": "python",
   "name": "python3"
  },
  "language_info": {
   "codemirror_mode": {
    "name": "ipython",
    "version": 3
   },
   "file_extension": ".py",
   "mimetype": "text/x-python",
   "name": "python",
   "nbconvert_exporter": "python",
   "pygments_lexer": "ipython3",
   "version": "3.7.3"
  }
 },
 "nbformat": 4,
 "nbformat_minor": 2
}
