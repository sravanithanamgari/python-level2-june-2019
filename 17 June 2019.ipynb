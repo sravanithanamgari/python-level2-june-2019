{
 "cells": [
  {
   "cell_type": "code",
   "execution_count": 6,
   "metadata": {},
   "outputs": [
    {
     "data": {
      "text/plain": [
       "['A', 'b', 'a']"
      ]
     },
     "execution_count": 6,
     "metadata": {},
     "output_type": "execute_result"
    }
   ],
   "source": [
    "# Function to Toggle string characters\n",
    "\n",
    "s = 'Aba'\n",
    "#s.isupper()  # function to check case of a character\n",
    "#s.islowe()   # function t check the case of a character\n",
    "\n",
    "s.lower() # convert the case of a character\n",
    "\n",
    "list(s) # convert the string into list"
   ]
  },
  {
   "cell_type": "code",
   "execution_count": 9,
   "metadata": {},
   "outputs": [
    {
     "data": {
      "text/plain": [
       "'aBcD'"
      ]
     },
     "execution_count": 9,
     "metadata": {},
     "output_type": "execute_result"
    }
   ],
   "source": [
    "# Function to Toggle string characters\n",
    "\n",
    "def togglestring(s):\n",
    "    #convert the string into alist of characters\n",
    "    s = list(s)\n",
    "    t = []\n",
    "    for c in s:\n",
    "        if c.islower():\n",
    "            t.append(c.upper())\n",
    "        else:\n",
    "            t.append(c.lower())\n",
    "    return \"\".join(t)\n",
    "\n",
    "togglestring(\"AbCd\")\n",
    "    "
   ]
  },
  {
   "cell_type": "code",
   "execution_count": 13,
   "metadata": {},
   "outputs": [
    {
     "data": {
      "text/plain": [
       "'aBcD'"
      ]
     },
     "execution_count": 13,
     "metadata": {},
     "output_type": "execute_result"
    }
   ],
   "source": [
    "def togglestring(s): # another way to toggle string\n",
    "    #convert the string into alist of characters\n",
    "    s = list(s)\n",
    "    t = []\n",
    "    for c in s:\n",
    "        if c.islower():\n",
    "            t += c.upper()\n",
    "        else:\n",
    "            t += c.lower()\n",
    "    return \"\".join(t)\n",
    "\n",
    "togglestring(\"AbCd\")"
   ]
  },
  {
   "cell_type": "markdown",
   "metadata": {},
   "source": [
    "### Problem :Duration\n",
    "\n",
    "Input :start time, end time (HH MM)\n",
    "        HH - {00,01, 02, 03, ...23} \n",
    "        MM - {00, 01, 02, 03, 04, ..59}\n",
    "        HH MM - {00 00 , 23 59}\n",
    "Output: time differences in HH MM"
   ]
  },
  {
   "cell_type": "code",
   "execution_count": 22,
   "metadata": {},
   "outputs": [
    {
     "name": "stdout",
     "output_type": "stream",
     "text": [
      "5 41\n"
     ]
    }
   ],
   "source": [
    "# Calculate the time difference as total number of minutes \n",
    "# Convert the total minutes into HH MM\n",
    "s = \" 2 42 8 23 \"\n",
    "def minuteDifference(s):\n",
    "    s = s.split()\n",
    "    sh = int(s[0])\n",
    "    sm = int(s[1])\n",
    "    eh = int(s[2])\n",
    "    em = int(s[3])\n",
    "    startminutes = (sh * 60) + sm\n",
    "    endminutes = (eh * 60) + em\n",
    "    return endminutes - startminutes\n",
    "\n",
    "def outputTimeformat(minutes):\n",
    "    #convert minutes to HH MM \n",
    "    hh = minutes // 60 \n",
    "    mm = minutes % 60\n",
    "    print(hh, mm)\n",
    "    return \n",
    "\n",
    "minutes = minuteDifference(s)\n",
    "\n",
    "outputTimeformat(minutes)"
   ]
  },
  {
   "cell_type": "markdown",
   "metadata": {},
   "source": [
    "### Problem : Play with numbers \n",
    "line 1: array size(n), no of queries(q)\n",
    "Line 2: n array elements\n",
    "next q lines : query - sub array pf original array\n",
    "\n",
    "5 3 \n",
    "1 2 3 4 5 \n",
    "1 3->2\n",
    "2 4->3\n",
    "2 5->3\n"
   ]
  },
  {
   "cell_type": "code",
   "execution_count": 26,
   "metadata": {},
   "outputs": [
    {
     "name": "stdout",
     "output_type": "stream",
     "text": [
      "5\n",
      "1 2 3 4 5\n"
     ]
    }
   ],
   "source": [
    "n = int(input())\n",
    "s = input()\n",
    "s = s.split()\n",
    "li = []\n"
   ]
  },
  {
   "cell_type": "code",
   "execution_count": 12,
   "metadata": {},
   "outputs": [
    {
     "name": "stdout",
     "output_type": "stream",
     "text": [
      "4\n",
      "sr$1\n",
      "1\n",
      "3\n"
     ]
    }
   ],
   "source": [
    "# number of digits and characters in the string\n",
    "n = int(input())\n",
    "s  = input()\n",
    "count1 = 0 \n",
    "count2 = 0\n",
    "if n == len(s):\n",
    "    for i in s:\n",
    "        if(i.isdigit()):\n",
    "            count1 = count1 + 1\n",
    "        else: \n",
    "            count2 = count2 + 1\n",
    "print(count1)\n",
    "print(count2)\n",
    "\n",
    "\n"
   ]
  },
  {
   "cell_type": "code",
   "execution_count": 10,
   "metadata": {},
   "outputs": [
    {
     "name": "stdout",
     "output_type": "stream",
     "text": [
      "28\n",
      "perfect number\n"
     ]
    }
   ],
   "source": [
    "# program for perfect numbers\n",
    "n = int(input())\n",
    "sum = 0\n",
    "for i in range(1, n):\n",
    "    if(n % i == 0):\n",
    "        sum = sum + i\n",
    "        \n",
    "if (sum == n):\n",
    "    print(\"perfect number\")\n",
    "else:\n",
    "    print(\"not perfect number\")\n",
    "    \n",
    "    "
   ]
  },
  {
   "cell_type": "code",
   "execution_count": 14,
   "metadata": {},
   "outputs": [
    {
     "data": {
      "text/plain": [
       "0"
      ]
     },
     "execution_count": 14,
     "metadata": {},
     "output_type": "execute_result"
    }
   ],
   "source": [
    "6%6\n"
   ]
  },
  {
   "cell_type": "code",
   "execution_count": null,
   "metadata": {},
   "outputs": [],
   "source": []
  }
 ],
 "metadata": {
  "kernelspec": {
   "display_name": "Python 3",
   "language": "python",
   "name": "python3"
  },
  "language_info": {
   "codemirror_mode": {
    "name": "ipython",
    "version": 3
   },
   "file_extension": ".py",
   "mimetype": "text/x-python",
   "name": "python",
   "nbconvert_exporter": "python",
   "pygments_lexer": "ipython3",
   "version": "3.7.3"
  }
 },
 "nbformat": 4,
 "nbformat_minor": 2
}
