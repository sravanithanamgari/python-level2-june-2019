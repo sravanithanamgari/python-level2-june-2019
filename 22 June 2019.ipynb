{
 "cells": [
  {
   "cell_type": "markdown",
   "metadata": {},
   "source": [
    "### Date : 22 June 2019\n",
    "\n",
    "### Day Objectives\n",
    "- File Handling\n",
    "    - Basic File Data precessing\n",
    "      - Accessing and Modifying File Data\n",
    "    - Character Count \n",
    "    - Line Count\n",
    "    - FileSize\n",
    "    - Word Count\n",
    "    - Unique Word count"
   ]
  },
  {
   "cell_type": "code",
   "execution_count": 7,
   "metadata": {},
   "outputs": [
    {
     "name": "stdout",
     "output_type": "stream",
     "text": [
      "new data\n",
      "\n",
      "line4\n",
      "line5\n",
      "line4\n",
      "line5\n",
      "line4\n",
      "line5\n"
     ]
    }
   ],
   "source": [
    "#Read a File - File should exist(Read Mode)\n",
    "# Write to a file - Existing(append) or New File(write mode)\n",
    "\n",
    "\n",
    "def readFile(filepath):\n",
    "    with open(filepath, 'r') as f:\n",
    "        filedata = f.read()   # Reads the entire file data into a string\n",
    "    return filedata\n",
    "\n",
    "filepath = 'DataFiles/data.txt'\n",
    "print(readFile(filepath))\n",
    "    \n"
   ]
  },
  {
   "cell_type": "code",
   "execution_count": 63,
   "metadata": {},
   "outputs": [],
   "source": [
    "# write data into file\n",
    "def writeFile(filename, filedata):\n",
    "    with open(filename, 'w') as f:\n",
    "        f.write(filedata)\n",
    "    return\n",
    "     \n",
    "\n",
    "filename = 'DataFiles/Data.txt'\n",
    "writeFile(filename, \"hello\")\n",
    "    "
   ]
  },
  {
   "cell_type": "code",
   "execution_count": 70,
   "metadata": {},
   "outputs": [],
   "source": [
    "##append data into the file\n",
    "def appendData(filename, filedata):\n",
    "    with open(filename, 'a') as f:\n",
    "        for line in filedata:\n",
    "            f.write(\"\\n\"+line)\n",
    "    return\n",
    "\n",
    "filename = 'DataFiles/Data.txt'\n",
    "filedata = [\"hai\"]\n",
    "\n",
    "appendData(filename, filedata)\n"
   ]
  },
  {
   "cell_type": "code",
   "execution_count": 77,
   "metadata": {},
   "outputs": [
    {
     "name": "stdout",
     "output_type": "stream",
     "text": [
      "7\n"
     ]
    }
   ],
   "source": [
    "# count lines in file\n",
    "def countline(filepath):\n",
    "    with open(filepath, 'r') as f:\n",
    "        line = 0\n",
    "        for i in f:\n",
    "                line = line+1\n",
    "    print(line)\n",
    "\n",
    "filepath = 'DataFiles/Data.txt'\n",
    "countline(filepath)\n",
    "        \n",
    "    "
   ]
  },
  {
   "cell_type": "code",
   "execution_count": 6,
   "metadata": {},
   "outputs": [
    {
     "name": "stdout",
     "output_type": "stream",
     "text": [
      "26\n"
     ]
    }
   ],
   "source": [
    "# count charcters in file\n",
    "def countcharacter(filename):\n",
    "    count = 0\n",
    "    with open(filename, 'r') as f:\n",
    "        filedata = f.read()\n",
    "        for ch in filedata:\n",
    "            if ch!=(\" \"):\n",
    "                count+=1\n",
    "        print(count)\n",
    "            \n",
    "filename = 'DataFiles/Data.txt'       \n",
    "countcharacter(filename)"
   ]
  },
  {
   "cell_type": "code",
   "execution_count": 4,
   "metadata": {},
   "outputs": [
    {
     "name": "stdout",
     "output_type": "stream",
     "text": [
      "6\n"
     ]
    }
   ],
   "source": [
    "# word Count\n",
    "def wordcount(filename):\n",
    "    count = 0\n",
    "    with open(filename, 'r') as f:\n",
    "        filedata = f.read()\n",
    "        s = filedata.split()\n",
    "        print(len(s))\n",
    "\n",
    "wordcount('DataFiles/Data.txt')\n",
    "    "
   ]
  },
  {
   "cell_type": "code",
   "execution_count": 88,
   "metadata": {},
   "outputs": [
    {
     "name": "stdout",
     "output_type": "stream",
     "text": [
      "{'hello': 1, 'hai': 5}\n"
     ]
    }
   ],
   "source": [
    "## unique word count\n",
    "def uniquewordcount(filename):\n",
    "    count = {}\n",
    "    #filename = 'DataFiles/Data.txt'\n",
    "    with open(filename, 'r') as f:\n",
    "        filedata = f.read()\n",
    "        li = filedata.split()\n",
    "        for i in li:\n",
    "            if i in count:\n",
    "                count[i] += 1\n",
    "            else:\n",
    "                count[i] = 1\n",
    "                \n",
    "        \n",
    "        print(count)\n",
    "uniquewordcount('DataFiles/Data.txt')\n",
    "            "
   ]
  },
  {
   "cell_type": "code",
   "execution_count": null,
   "metadata": {},
   "outputs": [],
   "source": [
    " "
   ]
  },
  {
   "cell_type": "code",
   "execution_count": null,
   "metadata": {},
   "outputs": [],
   "source": []
  }
 ],
 "metadata": {
  "kernelspec": {
   "display_name": "Python 3",
   "language": "python",
   "name": "python3"
  },
  "language_info": {
   "codemirror_mode": {
    "name": "ipython",
    "version": 3
   },
   "file_extension": ".py",
   "mimetype": "text/x-python",
   "name": "python",
   "nbconvert_exporter": "python",
   "pygments_lexer": "ipython3",
   "version": "3.7.3"
  }
 },
 "nbformat": 4,
 "nbformat_minor": 2
}
