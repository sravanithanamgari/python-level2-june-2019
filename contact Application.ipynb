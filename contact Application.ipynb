{
 "cells": [
  {
   "cell_type": "code",
   "execution_count": 1,
   "metadata": {},
   "outputs": [
    {
     "name": "stdout",
     "output_type": "stream",
     "text": [
      "2\n",
      "sr\n",
      "5177162712\n",
      "sr@gmail.com\n",
      "Ar\n",
      "3527325372\n",
      "Ar@gmail.com\n"
     ]
    },
    {
     "data": {
      "text/plain": [
       "{'sr': ['5177162712', 'sr@gmail.com'], 'Ar': ['3527325372', 'Ar@gmail.com']}"
      ]
     },
     "execution_count": 1,
     "metadata": {},
     "output_type": "execute_result"
    }
   ],
   "source": [
    "#Contact Application\n",
    "contact = {}  #empty dictionary\n",
    "def addcontact():\n",
    "    n = int(input())\n",
    "    for record in range(n):\n",
    "        name = input()\n",
    "        mobile = input()\n",
    "        email = input()\n",
    "        contact[name] = [mobile,email]\n",
    "    return contact\n",
    "\n",
    "addcontact()"
   ]
  },
  {
   "cell_type": "code",
   "execution_count": 4,
   "metadata": {},
   "outputs": [],
   "source": [
    "#Contact Application\n",
    "contact = {}  #empty dictionary\n",
    "def addcontact():\n",
    "    n = int(input())\n",
    "    for record in range(n):\n",
    "        name = input()\n",
    "        mobile = input()\n",
    "        email = input()\n",
    "        contact[name] = [mobile,email]\n",
    "    with open(\"contact.txt\",\"w\") as data:\n",
    "        for user in contact.items():\n",
    "            data.write(user[0]+\",\"+user[1][0]+\",\"+user[1][1]+\"\\n\")\n",
    "    return \"Data Added successfully\"\n",
    "\n",
    "\n",
    "    "
   ]
  },
  {
   "cell_type": "code",
   "execution_count": 5,
   "metadata": {},
   "outputs": [
    {
     "name": "stdout",
     "output_type": "stream",
     "text": [
      "1\n",
      "sra\n",
      "7175215712\n",
      "sra1@gmail.com\n"
     ]
    },
    {
     "data": {
      "text/plain": [
       "'Data Added successfully'"
      ]
     },
     "execution_count": 5,
     "metadata": {},
     "output_type": "execute_result"
    }
   ],
   "source": [
    "addcontact()"
   ]
  },
  {
   "cell_type": "code",
   "execution_count": 6,
   "metadata": {},
   "outputs": [
    {
     "name": "stdout",
     "output_type": "stream",
     "text": [
      "2\n",
      "srsr\n",
      "1214261426\n",
      "ss@gmail.com\n",
      "hshs\n",
      "9991725711\n",
      "hs@gmail.com\n"
     ]
    },
    {
     "data": {
      "text/plain": [
       "'Data Added successfully'"
      ]
     },
     "execution_count": 6,
     "metadata": {},
     "output_type": "execute_result"
    }
   ],
   "source": [
    "addcontact()\n"
   ]
  },
  {
   "cell_type": "code",
   "execution_count": 12,
   "metadata": {},
   "outputs": [
    {
     "name": "stdout",
     "output_type": "stream",
     "text": [
      "contact.txt\n",
      "['sra', '7175215712', 'sra1@gmail.com']\n",
      "['srsr', '1214261426', 'ss@gmail.com']\n",
      "['hshs', '9991725711', 'hs@gmail.com']\n"
     ]
    }
   ],
   "source": [
    "# updated contact details\n",
    "def modifycontacts(filename):\n",
    "    with open(filename, 'r') as f:\n",
    "        for line in f:\n",
    "            line = line.strip().split(',')\n",
    "            print(line)\n",
    "            \n",
    "filename = input()\n",
    "modifycontacts(filename)\n",
    "    \n"
   ]
  },
  {
   "cell_type": "code",
   "execution_count": 16,
   "metadata": {},
   "outputs": [
    {
     "name": "stdout",
     "output_type": "stream",
     "text": [
      "contact.txt\n",
      "enter user name:hshs\n",
      "Mobile number8888888888\n",
      "emailhhh@gmail.com\n"
     ]
    }
   ],
   "source": [
    "# updated contact details\n",
    "def modifycontacts(filename):\n",
    "    updated_data = {}\n",
    "    name = input(\"enter user name:\")\n",
    "    with open(filename, 'r') as f:\n",
    "        for line in f:\n",
    "            line = line.strip().split(',')\n",
    "            if name in line:\n",
    "                mobile = input(\"Mobile number\")\n",
    "                email = input(\"email\")\n",
    "                line[1] = mobile\n",
    "                line[2] = email\n",
    "                updated_data[line[0]]=[line[1],line[2]]\n",
    "            else:\n",
    "                updated_data[line[0]]=[line[1],line[2]]\n",
    "                continue\n",
    "    with open(filename, 'w') as info:\n",
    "        for user in updated_data.items():\n",
    "            info.write(user[0]+','+user[1][0]+\",\"+user[1][1]+\"\\n\")\n",
    "        \n",
    "    #print(updated_data)- print updated data in dictionary         \n",
    "            \n",
    "filename = input()\n",
    "modifycontacts(filename)\n",
    "    "
   ]
  },
  {
   "cell_type": "code",
   "execution_count": 6,
   "metadata": {},
   "outputs": [
    {
     "name": "stdout",
     "output_type": "stream",
     "text": [
      "contact.txt\n",
      "enter namehshs\n",
      "name does not exits\n"
     ]
    }
   ],
   "source": [
    "# Search contacts\n",
    "def searchcontact(filename):\n",
    "    f = open\n",
    "    with open(filename, 'r') as f:\n",
    "        for line in f:\n",
    "            line = line.strip().split(',')\n",
    "        if name in f:\n",
    "                print(name)\n",
    "                s = f.split()\n",
    "                print(\"mobile\", s[1])\n",
    "                print(\"email\", s[2])\n",
    "        else:\n",
    "                print(\"name does not exits\")\n",
    "\n",
    "filename = input()\n",
    "searchcontact(filename)\n",
    "            \n",
    "    "
   ]
  },
  {
   "cell_type": "code",
   "execution_count": 1,
   "metadata": {},
   "outputs": [
    {
     "ename": "NameError",
     "evalue": "name 'contact' is not defined",
     "output_type": "error",
     "traceback": [
      "\u001b[1;31m---------------------------------------------------------------------------\u001b[0m",
      "\u001b[1;31mNameError\u001b[0m                                 Traceback (most recent call last)",
      "\u001b[1;32m<ipython-input-1-577c2fb17224>\u001b[0m in \u001b[0;36m<module>\u001b[1;34m\u001b[0m\n\u001b[1;32m----> 1\u001b[1;33m \u001b[0mcontact\u001b[0m\u001b[1;33m\u001b[0m\u001b[1;33m\u001b[0m\u001b[0m\n\u001b[0m",
      "\u001b[1;31mNameError\u001b[0m: name 'contact' is not defined"
     ]
    }
   ],
   "source": [
    "\n"
   ]
  },
  {
   "cell_type": "code",
   "execution_count": null,
   "metadata": {},
   "outputs": [],
   "source": []
  }
 ],
 "metadata": {
  "kernelspec": {
   "display_name": "Python 3",
   "language": "python",
   "name": "python3"
  },
  "language_info": {
   "codemirror_mode": {
    "name": "ipython",
    "version": 3
   },
   "file_extension": ".py",
   "mimetype": "text/x-python",
   "name": "python",
   "nbconvert_exporter": "python",
   "pygments_lexer": "ipython3",
   "version": "3.7.3"
  }
 },
 "nbformat": 4,
 "nbformat_minor": 2
}
