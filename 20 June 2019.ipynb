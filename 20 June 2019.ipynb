{
 "cells": [
  {
   "cell_type": "code",
   "execution_count": 3,
   "metadata": {},
   "outputs": [
    {
     "name": "stdout",
     "output_type": "stream",
     "text": [
      "3\n",
      "640 480\n"
     ]
    },
    {
     "ename": "NameError",
     "evalue": "name 'length' is not defined",
     "output_type": "error",
     "traceback": [
      "\u001b[1;31m---------------------------------------------------------------------------\u001b[0m",
      "\u001b[1;31mNameError\u001b[0m                                 Traceback (most recent call last)",
      "\u001b[1;32m<ipython-input-3-ef2f76d54c63>\u001b[0m in \u001b[0;36m<module>\u001b[1;34m\u001b[0m\n\u001b[0;32m     22\u001b[0m \u001b[0ms2\u001b[0m \u001b[1;33m=\u001b[0m \u001b[0ms\u001b[0m\u001b[1;33m[\u001b[0m\u001b[1;36m1\u001b[0m\u001b[1;33m]\u001b[0m\u001b[1;33m\u001b[0m\u001b[1;33m\u001b[0m\u001b[0m\n\u001b[0;32m     23\u001b[0m \u001b[1;33m\u001b[0m\u001b[0m\n\u001b[1;32m---> 24\u001b[1;33m \u001b[0mprofile\u001b[0m\u001b[1;33m(\u001b[0m\u001b[0mlength\u001b[0m\u001b[1;33m,\u001b[0m \u001b[0mwidth\u001b[0m\u001b[1;33m,\u001b[0m \u001b[0mheight\u001b[0m\u001b[1;33m)\u001b[0m\u001b[1;33m\u001b[0m\u001b[1;33m\u001b[0m\u001b[0m\n\u001b[0m\u001b[0;32m     25\u001b[0m \u001b[1;33m\u001b[0m\u001b[0m\n\u001b[0;32m     26\u001b[0m \u001b[1;33m\u001b[0m\u001b[0m\n",
      "\u001b[1;31mNameError\u001b[0m: name 'length' is not defined"
     ]
    }
   ],
   "source": [
    "#Roy wants to change his profile picture on Facebook. Now Facebook has some restriction over the dimension of picture that we can upload.\n",
    "#Minimum dimension of the picture can be L x L, where L is the length of the side of square.\n",
    "\n",
    "#Now Roy has N photos of various dimensions.\n",
    "#Dimension of a photo is denoted as W x H \n",
    "#where W - width of the photo and H - Height of the photo\n",
    "\n",
    "\n",
    "\n",
    "def profile(length, width, height):\n",
    "    if (length == width):\n",
    "        print(\"ACCEPTED\")\n",
    "    elif (length < width or length > height):\n",
    "        print(\"UPLOAD ANOTHER\")\n",
    "    else:\n",
    "        print(\"CROP IT\")\n",
    "        \n",
    "n = int(input())\n",
    "s = input()\n",
    "s = s.split()\n",
    "s1 = s[0]\n",
    "s2 = s[1]\n",
    "    \n",
    "profile(length, width, height)\n",
    "    \n",
    "\n",
    "        \n",
    "\n",
    "\n",
    "\n",
    "\n",
    "\n",
    "\n",
    "\n"
   ]
  },
  {
   "cell_type": "markdown",
   "metadata": {},
   "source": [
    "## Day Objectives:\n",
    "#### Regular Expressions\n",
    "    - Constructing Regular Expressions for various use cases\n",
    "    - Regular Expressions Module and related in Python\n",
    "    - Improving the Contacts application with name and phone number validation\n",
    "### File Handling\n",
    "    - Text Files\n",
    "    - Upgrading the contacts Application to store contact information in a text file"
   ]
  },
  {
   "cell_type": "markdown",
   "metadata": {},
   "source": [
    "### Regular Expressions\n",
    "\n",
    "- Pattern Matching\n",
    "- Symbolic Notation of a pattern\n",
    "    - pattern : Format which repeats \n",
    "    - Pattern(RE)- The set of all values / data / strings which matches the pattern\n",
    "- [0-9] -> Any digit \n",
    "- [a-z] -> Any lowercase alphabet\n",
    "- [2468]  -> All single digit  multiples of 2\n",
    "   [8642]\n",
    "   [6824]\n",
    "   \n",
    "- ^[0-9]{1}$ -> Only single digit numbers\n",
    "- ^[0-9]{2}$ -> only double digit numbers\n",
    "-  ^[0-9]{3}$ -> three digit numbers\n",
    "- ^[0-9]{3}   -> it matches the string length of 3\n",
    "- [0-9]{3} -> it matches the last three numbers\n",
    "   \n",
    "- [0-9]*0$ - > All multiples of 10\n",
    "\n",
    "\n",
    "\n",
    "-  ^[1-9][0-9]*[05]$  or   ^([1-9][0-9]*[05])$|^([5])$  -> All   multiples  of   5\n",
    "-  ^[1-9][0-9]{10}$  ->All 10 digit numbers\n",
    "-  [w][0][r][d] or (word)    -> Searching for a word\n",
    "-  [9876][0-9]{10}$  or ^[6-9][0-9]{10}$ or ^[6-9][0-9]{10}$|[0][6-9][0-9]{9}$ -> Validating phone numbers(india)\n",
    "-      -> Email Validation( username@domain.extension)\n",
    "       -> (^[0-9a-z][0-9a-z_.]{4,13}[0-9a-z][@][0-9a-z]{3,18}[.][a-z]{2,4}$)\n",
    "        - username\n",
    "           - Length of username :  [6, 15]    ( ^[0-9a-z][0-9a-z_.]{4,13}[0-9a-z]$)\n",
    "           - NO special characters other than _ .\n",
    "           - should not begin and with _ .\n",
    "           - Characters Set: all digits and lower case alphabet.\n",
    "        - Domain\n",
    "            - Length of domain : [3, 15]    (^[0-9a-z][0-9a-z]{2,14}[0-9a-z]$)\n",
    "            - No special characters. \n",
    "            - Character set: all digits and lower case alphabet.\n",
    "        - extension\n",
    "            - Length of extension: [2, 4]    (^[a-z]{1,4}$)\n",
    "            - No Special characters.\n",
    "            - Character set: only alphabets lowercase alphabet.\n",
    "        \n",
    "\n",
    "\n",
    "- -> Any String of length 5 that starts with 'a' and  'z'\n",
    "    abcdz\n",
    "    a%^&z\n",
    "    a123z\n",
    "    aaazz\n",
    "    azzzz\n",
    "    ---->  ^[a]...[z]$  - string of length 5\n",
    "    ---->  ^[a].*[z]$  - string of any length\n",
    "    \n",
    "\n"
   ]
  },
  {
   "cell_type": "code",
   "execution_count": 23,
   "metadata": {},
   "outputs": [
    {
     "name": "stdout",
     "output_type": "stream",
     "text": [
      "invalid number\n"
     ]
    }
   ],
   "source": [
    "## Function to validate a phone number \n",
    "import re \n",
    "\n",
    "def phoneNumbervalidator(number):\n",
    "    pattern = '^[6-9][0-9]{10}$|[0][6-9][0-9]{9}$'\n",
    "    if re.match(pattern,str(number)):\n",
    "        print(\"valid number\")\n",
    "    else:\n",
    "        print(\"invalid number\")\n",
    "    return\n",
    "\n",
    "phoneNumbervalidator('7286822789')\n",
    "\n",
    "\n",
    "def emailvalidator(email):\n",
    "    pattern = '^[0-9a-z][0-9a-z_.]{4,13}[0-9a-z][@][0-9a-z]{3,18}[.][a-z]{2,4}$'\n",
    "    if re.match(pattern, email):\n",
    "        print(\"valid email\")\n",
    "    else:\n",
    "        print(\"invalid email\")\n",
    "    return\n",
    "\n",
    "#emailvalidator(\"sravanit537@gmail.com\")\n"
   ]
  },
  {
   "cell_type": "code",
   "execution_count": 24,
   "metadata": {},
   "outputs": [
    {
     "name": "stdout",
     "output_type": "stream",
     "text": [
      "invalid number\n",
      "Invalid phone number\n"
     ]
    }
   ],
   "source": [
    "contacts2 = {\"name1\":[9542180186, 'hr@gmail.com'], \"name2\":[9182031895, \"h1@gmail.com\"]}\n",
    "\n",
    "def addContacts(name, phone, email):\n",
    "    # verify that the contact doesnot already exits\n",
    "    if name  in contacts2 :\n",
    "        print(name, \"already exists\")\n",
    "    else:\n",
    "        if not phoneNumbervalidator(phone):\n",
    "            print(\"Invalid phone number\")\n",
    "            return\n",
    "        if not emailvalidator(email):\n",
    "            print(\"Invalid email\")\n",
    "            return\n",
    "        newcontact = []\n",
    "        newcontact.append(phone)\n",
    "        newcontact.append(email)\n",
    "        contacts[name] = newcontact\n",
    "        print(name, \"added successfully\")\n",
    "    return \n",
    "\n",
    "addContacts(\"name3\", 7893628682, \"sr@gmail.com\")"
   ]
  },
  {
   "cell_type": "code",
   "execution_count": 26,
   "metadata": {},
   "outputs": [
    {
     "name": "stdout",
     "output_type": "stream",
     "text": [
      "name1\n",
      "Phone : 9542180186\n",
      "Email: hr@gmail.com\n"
     ]
    }
   ],
   "source": [
    "def searchContacts(name):\n",
    "    if name in contacts2:\n",
    "        print(name)\n",
    "        print(\"Phone :\", contacts2[name][0])\n",
    "        print(\"Email:\", contacts2[name][1])\n",
    "    else:\n",
    "        print(\"%s does not exit\" %name)\n",
    "    return\n",
    "\n",
    "searchContacts(\"name1\")\n"
   ]
  },
  {
   "cell_type": "code",
   "execution_count": 31,
   "metadata": {},
   "outputs": [
    {
     "name": "stdout",
     "output_type": "stream",
     "text": [
      "2 Contacts added successfully\n"
     ]
    }
   ],
   "source": [
    "### New Contacts is given as a dictionary\n",
    "### merge new Contacts with  existing contacts\n",
    "def importContacts(newContacts):\n",
    "    contacts2.update(newContacts)\n",
    "    print(len(newContacts.keys()), \"Contacts added successfully\")\n",
    "    return\n",
    "\n",
    "newContacts = {\"srrs\":[9876543210, 'srrs@gmail.com'] , \"abab\":[6543276532, 'abab@gmail.com']}\n",
    "\n",
    "importContacts(newContacts)"
   ]
  },
  {
   "cell_type": "code",
   "execution_count": 32,
   "metadata": {},
   "outputs": [
    {
     "data": {
      "text/plain": [
       "{'name1': [9542180186, 'hr@gmail.com'],\n",
       " 'name2': [9182031895, 'h1@gmail.com'],\n",
       " 'srrs': [9876543210, 'srrs@gmail.com'],\n",
       " 'abab': [6543276532, 'abab@gmail.com']}"
      ]
     },
     "execution_count": 32,
     "metadata": {},
     "output_type": "execute_result"
    }
   ],
   "source": [
    "contacts2"
   ]
  },
  {
   "cell_type": "code",
   "execution_count": null,
   "metadata": {},
   "outputs": [],
   "source": [
    "## Function to list all contacts\n",
    "\n",
    "def listContacts():\n",
    "    for contact, info in contacts.items():\n",
    "        print(contact, \"\\n\", \"phone :\", info[0])"
   ]
  },
  {
   "cell_type": "code",
   "execution_count": null,
   "metadata": {},
   "outputs": [],
   "source": [
    "# Function to edit contact information\n",
    "# FUnction t delete edited contact\n",
    "def editcontact(name, phone, email):\n",
    "    \n",
    "    "
   ]
  },
  {
   "cell_type": "markdown",
   "metadata": {},
   "source": [
    "### File Handling in Python\n",
    "\n",
    "File - Document Containing information residing on the permanent storage\n",
    "Types - Text, PDF, CSV, etc\n",
    "\n",
    "File I/O - Channelling I/O data to files\n",
    "Default I/O channels - Keyboard / Screen\n",
    "\n",
    "Change I/O channel to files for reading and writing\n",
    "\n",
    "Read a file - input from file\n",
    "Write to a file - Output to a file\n",
    "\n",
    "Read / Write  file- open(filename, mode)\n",
    "\n",
    "\n"
   ]
  },
  {
   "cell_type": "code",
   "execution_count": 40,
   "metadata": {},
   "outputs": [
    {
     "name": "stdout",
     "output_type": "stream",
     "text": [
      "Line1\n",
      "\n",
      "Line2\n",
      "\n",
      "Line3\n"
     ]
    }
   ],
   "source": [
    "# Function to read a file\n",
    "\n",
    "def readfile(filename):\n",
    "    f = open(filename, 'r')\n",
    "    filedata = f.read()\n",
    "    f.close()\n",
    "    return filedata\n",
    "\n",
    "filename = 'Datafiles/Data.txt'\n",
    "filedata = readfile(filename)\n",
    "#for line in readfile(filename).split(\"\\n\"):  ##  readfile(filename).split(\"\\n\"):\n",
    "#    print(line)\n",
    "\n",
    "\n",
    "def printFileDataLines(filename):\n",
    "    f = open(filename, 'r')\n",
    "    for line in f:\n",
    "        print(line)\n",
    "    return\n",
    "\n",
    "printFileDataLines(filename)\n"
   ]
  },
  {
   "cell_type": "code",
   "execution_count": 44,
   "metadata": {},
   "outputs": [
    {
     "name": "stdout",
     "output_type": "stream",
     "text": [
      "Line1\n",
      " "
     ]
    }
   ],
   "source": [
    "\n",
    "def printFileDataLines(filename):\n",
    "    with open(filename, 'r') as f:\n",
    "        for line in f:\n",
    "            print(line, end=' ')\n",
    "            return\n",
    "\n",
    "        \n",
    "printFileDataLines(filename)\n"
   ]
  },
  {
   "cell_type": "code",
   "execution_count": 45,
   "metadata": {},
   "outputs": [],
   "source": [
    "#Function to write data into a file\n",
    "\n",
    "def writeIntoFile(filename, filedata):\n",
    "    with open(filename, 'w') as f:\n",
    "        f.write(filedata)\n",
    "    return \n",
    "\n",
    "filename = 'DataFiles/data.txt'\n",
    "\n",
    "writeIntoFile(filename, \"new data\")\n",
    "        "
   ]
  },
  {
   "cell_type": "code",
   "execution_count": 52,
   "metadata": {},
   "outputs": [],
   "source": [
    "#Function to append data to a file\n",
    "\n",
    "def appendDataToFile(filename, filedata):\n",
    "    with open(filename, 'a') as f:\n",
    "        f.write(filedata)\n",
    "    return \n",
    "\n",
    "filedata = \"\\nline2\\nLine3\"\n",
    "appendDataToFile(filename, filedata)\n"
   ]
  },
  {
   "cell_type": "code",
   "execution_count": 56,
   "metadata": {},
   "outputs": [],
   "source": [
    "\n",
    "def appendDataToFile(filename, filedata):\n",
    "    with open(filename, 'a') as f:\n",
    "        for line in filedata:\n",
    "            f.write(line)\n",
    "        return \n",
    "\n",
    "filedata = [\"Line4\", \"Line5\"]\n",
    "appendDataToFile(filename, filedata)"
   ]
  },
  {
   "cell_type": "code",
   "execution_count": null,
   "metadata": {},
   "outputs": [],
   "source": []
  }
 ],
 "metadata": {
  "kernelspec": {
   "display_name": "Python 3",
   "language": "python",
   "name": "python3"
  },
  "language_info": {
   "codemirror_mode": {
    "name": "ipython",
    "version": 3
   },
   "file_extension": ".py",
   "mimetype": "text/x-python",
   "name": "python",
   "nbconvert_exporter": "python",
   "pygments_lexer": "ipython3",
   "version": "3.7.3"
  }
 },
 "nbformat": 4,
 "nbformat_minor": 2
}
