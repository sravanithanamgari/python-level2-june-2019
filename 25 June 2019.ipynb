{
 "cells": [
  {
   "cell_type": "code",
   "execution_count": 3,
   "metadata": {},
   "outputs": [
    {
     "name": "stdout",
     "output_type": "stream",
     "text": [
      "123\n",
      "6\n"
     ]
    }
   ],
   "source": [
    "# sum of digits of a given number\n",
    "n = int(input())\n",
    "sum = 0\n",
    "while(n>0):\n",
    "    temp = n % 10\n",
    "    sum = sum + temp\n",
    "    n = n//10\n",
    "print(sum)"
   ]
  },
  {
   "cell_type": "code",
   "execution_count": 14,
   "metadata": {},
   "outputs": [
    {
     "name": "stdout",
     "output_type": "stream",
     "text": [
      "aba\n",
      "4\n"
     ]
    }
   ],
   "source": [
    "# char sum\n",
    "s = input()\n",
    "sum = 0\n",
    "for i in s:\n",
    "    sum +=ord(i)-(ord('a')-1)\n",
    "print(sum)"
   ]
  },
  {
   "cell_type": "markdown",
   "metadata": {},
   "source": [
    "### -- Given a string S, consisting of alphabets and digits , find the frequency of each digit in the given string\n",
    "**input format - first line contains a string ,num which is the given number\n",
    "** All the elements of the number are made of english alphabets and digits\n",
    "Output\n",
    "\n",
    "\n",
    " \n"
   ]
  },
  {
   "cell_type": "code",
   "execution_count": 17,
   "metadata": {},
   "outputs": [
    {
     "name": "stdout",
     "output_type": "stream",
     "text": [
      "0 4 1 1 1 1 1 0 0 0 "
     ]
    }
   ],
   "source": [
    "#s = 213abc456def111\n",
    "# 0 4 1 1 1 1 1 0 0 0  -> Frequency of sorted numbers\n",
    "# count(1) -> 1 4 1 1 1 1 4 4 4 \n",
    "\n",
    "\n",
    "# s = c\n",
    "# 0 0 0 0 0 0 0 0 0 0 \n",
    "\n",
    "# s = 1234567890\n",
    "# 1 1 1 1 1 1 1 1 1 1\n",
    "\n",
    "def uniqueData(allnumbers):\n",
    "    unique = []\n",
    "    for n in allnumbers:\n",
    "        if n not in unique:\n",
    "            unique.append(n)\n",
    "    return unique\n",
    "\n",
    "def digitFrequency1(s):\n",
    "    allnumbers = []\n",
    "    for i in s:\n",
    "        if i.isdigit():\n",
    "            allnumbers.append(i)\n",
    "    unique = uniqueData(allnumbers)\n",
    "    for i in range(0, 10):\n",
    "        if str(i) not in unique:\n",
    "            print(0, end=' ')\n",
    "        else: \n",
    "            count = allnumbers.count(str(i))\n",
    "            print(count, end=' ')\n",
    "            \n",
    "\n",
    "digitFrequency1('213abc456def111')  \n",
    "    "
   ]
  },
  {
   "cell_type": "code",
   "execution_count": 19,
   "metadata": {},
   "outputs": [
    {
     "name": "stdout",
     "output_type": "stream",
     "text": [
      "0\n"
     ]
    }
   ],
   "source": [
    "def degitFrequency2(s):\n",
    "    for i in  range(0, 10):\n",
    "        count = s.count(str(i))\n",
    "    print(count)\n",
    "\n",
    "degitFrequency2('213abc456def111') "
   ]
  },
  {
   "cell_type": "code",
   "execution_count": 7,
   "metadata": {},
   "outputs": [
    {
     "data": {
      "text/plain": [
       "1"
      ]
     },
     "execution_count": 7,
     "metadata": {},
     "output_type": "execute_result"
    }
   ],
   "source": [
    "# Function to check if two strings are anagrams\n",
    "# abc cba --> True\n",
    "# {a:1,b:1,c:1} {c:1, b:1,c:1}\n",
    "# abc abc\n",
    "# aabbcc ccbbaaa --> False\n",
    "# aabbcc  aaabbcc(sort)\n",
    "# abc\n",
    "#{a:2,b:2,c:2} {a:3, b:2, c:2}\n",
    "\n",
    "def checkAnagrams(s1, s2):\n",
    "    if len((s1))!= len(s2):\n",
    "        return False\n",
    "    if sorted(s1) == sorted(s2):\n",
    "        return True\n",
    "    return False \n",
    "\n",
    "#checkAnagrams('abc', 'cba')\n",
    "def charDeletionsAnagrams(s1, s2):\n",
    "    # to collect all uncommon characters occurring in only \n",
    "    uncommon = []\n",
    "    for i in s1:\n",
    "        if i not in s2:\n",
    "            uncommon.append(i)\n",
    "    for i in s2:\n",
    "        if i not in s1:\n",
    "            uncommon.append(i)\n",
    "    count = len(uncommon)\n",
    "    # freqs1 ->  frequency of common characters \n",
    "    freqs1 = {}\n",
    "    freqs2 = {}\n",
    "    #Unique characters in s2 and s2 \n",
    "    uniqs1 = []\n",
    "    uniqs2 = []\n",
    "    # Frequency of unique charcaters in s1 \n",
    "    for i in s1:\n",
    "        if i not in  uncommon and i not in uniqs1:\n",
    "            freqs1[i] = s1.count(i)\n",
    "            uniqs1.append(i)\n",
    "   # Frequency of  unique characters in s2\n",
    "    for i in s2:\n",
    "        if i not in uncommon and i not in uniqs2:\n",
    "            freqs2[i] = s2.count(i)\n",
    "            uniqs2.append(i)\n",
    "    # Difference in frequencies for common characters \n",
    "    for key in freqs1.keys():\n",
    "        count += abs(freqs1[key] - freqs2[key])\n",
    "    return count\n",
    "charDeletionsAnagrams('abc', 'bcad')\n",
    "            \n",
    "\n",
    "\n",
    "    "
   ]
  },
  {
   "cell_type": "code",
   "execution_count": 5,
   "metadata": {},
   "outputs": [
    {
     "name": "stdout",
     "output_type": "stream",
     "text": [
      "5\n"
     ]
    }
   ],
   "source": [
    "# floor of average \n",
    "def average(lb, ub):\n",
    "    sum = 0\n",
    "    for i in range(lb, ub+1):\n",
    "        sum += i\n",
    "    count = ub-lb+1\n",
    "    avg = sum//count\n",
    "    print(avg)\n",
    "\n",
    "average(1, 10)\n",
    "    \n",
    "    \n",
    "        \n",
    "    "
   ]
  },
  {
   "cell_type": "code",
   "execution_count": null,
   "metadata": {},
   "outputs": [],
   "source": [
    "# Largest kth value\n",
    "def KLargestFrequency(s, k):\n",
    "    # Construct the frequency \n",
    "    unique = []\n",
    "    freq = {}\n",
    "    for i in s:\n",
    "        if i not in freq.keys():\n",
    "            freq[i] = s.count(i)\n",
    "            \n",
    "        "
   ]
  }
 ],
 "metadata": {
  "kernelspec": {
   "display_name": "Python 3",
   "language": "python",
   "name": "python3"
  },
  "language_info": {
   "codemirror_mode": {
    "name": "ipython",
    "version": 3
   },
   "file_extension": ".py",
   "mimetype": "text/x-python",
   "name": "python",
   "nbconvert_exporter": "python",
   "pygments_lexer": "ipython3",
   "version": "3.7.3"
  }
 },
 "nbformat": 4,
 "nbformat_minor": 2
}
