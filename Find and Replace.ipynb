{
 "cells": [
  {
   "cell_type": "code",
   "execution_count": 6,
   "metadata": {},
   "outputs": [
    {
     "ename": "SyntaxError",
     "evalue": "invalid syntax (<ipython-input-6-8b18953f513e>, line 24)",
     "output_type": "error",
     "traceback": [
      "\u001b[1;36m  File \u001b[1;32m\"<ipython-input-6-8b18953f513e>\"\u001b[1;36m, line \u001b[1;32m24\u001b[0m\n\u001b[1;33m    return\u001b[0m\n\u001b[1;37m         ^\u001b[0m\n\u001b[1;31mSyntaxError\u001b[0m\u001b[1;31m:\u001b[0m invalid syntax\n"
     ]
    }
   ],
   "source": [
    "# Find and Replace Application\n",
    "    # Count the total number of occurences of the word\n",
    "    # If word is existing \n",
    "    # Replace all occurances of a word with another word \n",
    "\n",
    "#word = input()\n",
    "def occurenceOfword(filename):\n",
    "    count = 0\n",
    "    with open(filename, 'r') as f:\n",
    "        for line in f:\n",
    "            words = line.split()\n",
    "            for i in words:\n",
    "                if(i == word):\n",
    "                    count = count+1\n",
    "    print(count)\n",
    "        \n",
    "\n",
    "#occurenceOfword('DataFiles/Find and replace.txt')\n",
    " \n",
    "def replaceword(filename):\n",
    "    with open(filename, 'w') as f:\n",
    "        for word in f:\n",
    "            output.write(f.replace(python, java)\n",
    "    return\n",
    "replaceword('DataFiles/FindReplace.txt')           \n",
    "    "
   ]
  },
  {
   "cell_type": "code",
   "execution_count": 7,
   "metadata": {},
   "outputs": [
    {
     "data": {
      "text/plain": [
       "float"
      ]
     },
     "execution_count": 7,
     "metadata": {},
     "output_type": "execute_result"
    }
   ],
   "source": [
    "c = 0\n",
    "c = 5/2\n",
    "type(c)\n"
   ]
  },
  {
   "cell_type": "code",
   "execution_count": null,
   "metadata": {},
   "outputs": [],
   "source": []
  }
 ],
 "metadata": {
  "kernelspec": {
   "display_name": "Python 3",
   "language": "python",
   "name": "python3"
  },
  "language_info": {
   "codemirror_mode": {
    "name": "ipython",
    "version": 3
   },
   "file_extension": ".py",
   "mimetype": "text/x-python",
   "name": "python",
   "nbconvert_exporter": "python",
   "pygments_lexer": "ipython3",
   "version": "3.7.3"
  }
 },
 "nbformat": 4,
 "nbformat_minor": 2
}
